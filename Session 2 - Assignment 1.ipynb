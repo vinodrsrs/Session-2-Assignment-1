{
 "cells": [
  {
   "cell_type": "markdown",
   "metadata": {},
   "source": [
    "# Task 1:"
   ]
  },
  {
   "cell_type": "markdown",
   "metadata": {},
   "source": [
    "### 1.1 Write a Python Program to implement your own myreduce() function which works exactly like Python's built-in function reduce()"
   ]
  },
  {
   "cell_type": "code",
   "execution_count": 17,
   "metadata": {},
   "outputs": [
    {
     "name": "stdout",
     "output_type": "stream",
     "text": [
      "custom reduce func result is : hi_my_name_is_Vinod\n"
     ]
    }
   ],
   "source": [
    "def str_concat(a,b):\n",
    "    return a+b\n",
    "\n",
    "def my_reduce(compute_square,a):\n",
    "    res = str_concat(a[0],a[1])\n",
    "    for i in range(2,len(a)):\n",
    "        res = str_concat(res,a[i])\n",
    "    return res\n",
    "\n",
    "result = my_reduce(str_concat,[\"hi_\",\"my_\",\"name_\",\"is_\",\"Vinod\"])\n",
    "print(\"custom reduce func result is :\",result)"
   ]
  },
  {
   "cell_type": "markdown",
   "metadata": {},
   "source": [
    "### 1.2 Write a Python program to implement your own myfilter() function which works exactly like Python's built-in function filter()"
   ]
  },
  {
   "cell_type": "code",
   "execution_count": 47,
   "metadata": {},
   "outputs": [
    {
     "name": "stdout",
     "output_type": "stream",
     "text": [
      "custom filter func result is for checking whether a num is prime or not: [2, 3, 5, 7]\n"
     ]
    }
   ],
   "source": [
    "def prime(num):\n",
    "    c = 0\n",
    "    for i in range(2,num+1):\n",
    "        if(num%i==0):\n",
    "            c+=1\n",
    "    if(c==1):\n",
    "        return True\n",
    "    else:\n",
    "        return False\n",
    "            \n",
    "def my_filter(prime,a):\n",
    "    res = []\n",
    "    for i in a:\n",
    "        if(prime(i) == True):\n",
    "            res.append(i)\n",
    "    return res    \n",
    "    \n",
    "result = my_filter(prime,range(10))\n",
    "print(\"custom filter func result is for checking whether a num is prime or not:\",result)"
   ]
  },
  {
   "cell_type": "markdown",
   "metadata": {},
   "source": [
    "### 2. Implement List comprehensions to produce the following lists.Write List comprehensions to produce the following Lists"
   ]
  },
  {
   "cell_type": "code",
   "execution_count": 2,
   "metadata": {},
   "outputs": [
    {
     "name": "stdout",
     "output_type": "stream",
     "text": [
      "enter the number of letters you want in the list :8\n",
      "A\n",
      "C\n",
      "A\n",
      "D\n",
      "G\n",
      "I\n",
      "L\n",
      "D\n",
      "list output is : ['A', 'C', 'A', 'D', 'G', 'I', 'L', 'D']\n"
     ]
    }
   ],
   "source": [
    "# eg : ['A', 'C', 'A', 'D', 'G', 'I', ’L’, ‘ D’]\n",
    "res = [input() for i in range(int(input(\"enter the number of letters you want in the list :\")))]\n",
    "print(\"list output is :\",res)"
   ]
  },
  {
   "cell_type": "code",
   "execution_count": 29,
   "metadata": {},
   "outputs": [
    {
     "name": "stdout",
     "output_type": "stream",
     "text": [
      "list output is : ['x', 'xx', 'xxx', 'xxxx', 'y', 'yy', 'yyy', 'yyyy', 'z', 'zz', 'zzz', 'zzzz']\n"
     ]
    }
   ],
   "source": [
    "# eg : ['x', 'xx', 'xxx', 'xxxx', 'y', 'yy', 'yyy', 'yyyy', 'z', 'zz', 'zzz', 'zzzz']\n",
    "a = \"xyz\"\n",
    "res = [i*j for i in a for j in range(1,len(a)+2)]\n",
    "print(\"list output is :\" ,res)\n"
   ]
  },
  {
   "cell_type": "code",
   "execution_count": 35,
   "metadata": {},
   "outputs": [
    {
     "name": "stdout",
     "output_type": "stream",
     "text": [
      "list output is :  ['x', 'y', 'z', 'xx', 'yy', 'zz', 'xxx', 'yyy', 'zzz', 'xxxx', 'yyyy', 'zzzz']\n"
     ]
    }
   ],
   "source": [
    "# eg :  ['x', 'y', 'z', 'xx', 'yy', 'zz', 'xx', 'yy', 'zz', 'xxxx', 'yyyy', 'zzzz']\n",
    "a = \"xyz\"\n",
    "res = [i*j for i in range(1,len(a)+2) for j in a]\n",
    "print(\"list output is : \",res)"
   ]
  },
  {
   "cell_type": "code",
   "execution_count": 4,
   "metadata": {},
   "outputs": [
    {
     "name": "stdout",
     "output_type": "stream",
     "text": [
      "enter limit : 5\n",
      "list output is :  [[2], [3], [4], [3], [4], [5], [4], [5], [6]]\n"
     ]
    }
   ],
   "source": [
    "#eg : [[2], [3], [4], [3], [4], [5], [4], [5], [6]]\n",
    "\n",
    "res = [[j] for i in range(2,int(input(\"enter limit : \"))) for j in range(i,i+3)]\n",
    "print(\"list output is : \",res)"
   ]
  },
  {
   "cell_type": "code",
   "execution_count": 20,
   "metadata": {},
   "outputs": [
    {
     "name": "stdout",
     "output_type": "stream",
     "text": [
      "list output is : [[2, 3, 4, 5], [3, 4, 5, 6], [4, 5, 6, 7], [5, 6, 7, 8]]\n"
     ]
    }
   ],
   "source": [
    "# eg : [[2, 3, 4, 5], [3, 4, 5, 6], [4, 5, 6, 7], [5, 6, 7, 8]]\n",
    "a   = [2,3,4,5]\n",
    "res = [[j+i for j in a]for i in range(4)]\n",
    "print(\"list output is :\",res)"
   ]
  },
  {
   "cell_type": "code",
   "execution_count": 21,
   "metadata": {},
   "outputs": [
    {
     "name": "stdout",
     "output_type": "stream",
     "text": [
      "list output is : [(1, 1), (2, 1), (3, 1), (1, 2), (2, 2), (3, 2), (1, 3), (2, 3), (3, 3)]\n"
     ]
    }
   ],
   "source": [
    "# eg [(1, 1), (2, 1), (3, 1), (1, 2), (2, 2), (3, 2), (1, 3), (2, 3), (3, 3)]\n",
    "\n",
    "res = [(j,i) for i in range(1,4) for j in range(1,4)]\n",
    "print(\"list output is :\",res )"
   ]
  },
  {
   "cell_type": "markdown",
   "metadata": {},
   "source": [
    "### 3. Implement a function longestWord() that takes a list of words and returns the longest one."
   ]
  },
  {
   "cell_type": "code",
   "execution_count": 37,
   "metadata": {},
   "outputs": [
    {
     "name": "stdout",
     "output_type": "stream",
     "text": [
      "Hi my name is Vinod\n",
      "longest_word is : Vinod\n"
     ]
    }
   ],
   "source": [
    "def longestWord(inp):\n",
    "    lw = \"\"\n",
    "    for i in inp:\n",
    "        if(len(i)>=len(lw)):\n",
    "            lw = i\n",
    "    return lw        \n",
    "longest_word  = longestWord(input().split(\" \"))\n",
    "print(\"longest_word is :\",longest_word)"
   ]
  },
  {
   "cell_type": "markdown",
   "metadata": {},
   "source": [
    "# Task 2:"
   ]
  },
  {
   "cell_type": "markdown",
   "metadata": {},
   "source": [
    "### 1.1 Write a Python Program(with class concepts) to find the area of the triangle using the below formula."
   ]
  },
  {
   "cell_type": "code",
   "execution_count": 1,
   "metadata": {},
   "outputs": [
    {
     "name": "stdout",
     "output_type": "stream",
     "text": [
      "12\n",
      "10\n",
      "8\n",
      "Area is  :  39.68626966596886\n"
     ]
    }
   ],
   "source": [
    "#area = (s*(s-a)*(s-b)*(s-c)) ** 0.5\n",
    "#Function to take the length of the sides of triangle from user should be defined in the parent\n",
    "#class and function to calculate the area should be defined in subclass.\n",
    "\n",
    "class Base():\n",
    "    def __init__(self):\n",
    "        self.a,self.b,self.c=[int(input()) for i in range(3)]\n",
    "        self.s = (self.a+self.b+self.c)/2\n",
    "        \n",
    "class Child(Base):\n",
    "    def __init__(self):\n",
    "        Base.__init__(self)\n",
    "        \n",
    "    def CompArea(self):\n",
    "        return (self.s*(self.s-self.a)*(self.s-self.b)*(self.s-self.c)) ** 0.5\n",
    "    \n",
    "c = Child()\n",
    "print(\"Area is  : \",c.CompArea())"
   ]
  },
  {
   "cell_type": "markdown",
   "metadata": {},
   "source": [
    "### 1.2 Write a function filter_long_words() that takes a list of words and an integer n and returns the list of words that are longer than n."
   ]
  },
  {
   "cell_type": "code",
   "execution_count": 3,
   "metadata": {},
   "outputs": [
    {
     "name": "stdout",
     "output_type": "stream",
     "text": [
      "enter input :hi I am Vinod I am studying in JITD Davanagere\n",
      "enter n :3\n",
      "result of filtered list is :  ['Vinod', 'studying', 'JITD', 'Davanagere']\n"
     ]
    }
   ],
   "source": [
    "def  filter_long_words(l,n):\n",
    "    r = []\n",
    "    for i in l:\n",
    "        if(len(i)>n):\n",
    "            r.append(i)\n",
    "    return r        \n",
    "    \n",
    "result = filter_long_words(input(\"enter input :\").split(\" \"),int(input(\"enter n :\")))\n",
    "print(\"result of filtered list is : \",result)"
   ]
  },
  {
   "cell_type": "markdown",
   "metadata": {},
   "source": [
    "### 2.1  Write a Python program using function concept that maps list of words into a list of integers representing the lengths of the corresponding words ."
   ]
  },
  {
   "cell_type": "code",
   "execution_count": 9,
   "metadata": {},
   "outputs": [
    {
     "name": "stdout",
     "output_type": "stream",
     "text": [
      "hi good morning\n",
      "return value of my_fun is : [2, 4, 7]\n"
     ]
    }
   ],
   "source": [
    "def my_fun(l):\n",
    "    r = []\n",
    "    for i in l:\n",
    "        r.append(len(i))\n",
    "    return r    \n",
    "res = my_fun(input().split(\" \"))\n",
    "print(\"return value of my_fun is :\",res)"
   ]
  },
  {
   "cell_type": "markdown",
   "metadata": {},
   "source": [
    "### 2.2 Write a Python function which takes a character (i.e. a string of length 1) and returns True if it is a vowel, False otherwise"
   ]
  },
  {
   "cell_type": "code",
   "execution_count": 18,
   "metadata": {},
   "outputs": [
    {
     "name": "stdout",
     "output_type": "stream",
     "text": [
      "enter character : a\n",
      "True\n"
     ]
    }
   ],
   "source": [
    "def find_vowel(char):\n",
    "    if(len(char)==1):\n",
    "        if((char in \"aeiou\") or (char in \"AEIOU\")):\n",
    "                return True\n",
    "        else:\n",
    "            return False\n",
    "\n",
    "a = find_vowel(input(\"enter character : \"))\n",
    "print(a)"
   ]
  },
  {
   "cell_type": "code",
   "execution_count": null,
   "metadata": {},
   "outputs": [],
   "source": []
  }
 ],
 "metadata": {
  "kernelspec": {
   "display_name": "Python 3",
   "language": "python",
   "name": "python3"
  },
  "language_info": {
   "codemirror_mode": {
    "name": "ipython",
    "version": 3
   },
   "file_extension": ".py",
   "mimetype": "text/x-python",
   "name": "python",
   "nbconvert_exporter": "python",
   "pygments_lexer": "ipython3",
   "version": "3.7.4"
  }
 },
 "nbformat": 4,
 "nbformat_minor": 2
}
